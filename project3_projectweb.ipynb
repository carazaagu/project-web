{
 "metadata": {
  "language_info": {
   "codemirror_mode": {
    "name": "ipython",
    "version": 3
   },
   "file_extension": ".py",
   "mimetype": "text/x-python",
   "name": "python",
   "nbconvert_exporter": "python",
   "pygments_lexer": "ipython3",
   "version": "3.8.3-final"
  },
  "orig_nbformat": 2,
  "kernelspec": {
   "name": "python383jvsc74a57bd05f23c331dcc0e959a18d97d72b32723b8e8fefc4a029dc171226f15b89161c30",
   "display_name": "Python 3.8.3 32-bit (conda)"
  }
 },
 "nbformat": 4,
 "nbformat_minor": 2,
 "cells": [
  {
   "source": [
    "# PROJECT 3_ Project web_Carlos Azagra"
   ],
   "cell_type": "markdown",
   "metadata": {}
  },
  {
   "source": [
    "The goal of this project is practicing what I have learned in the APIs and Web Scraping chapter of this program. I will scrap two different websitdes related to football by using two different methods:\n",
    "\n",
    "- **API - Football Data**: from which I will obtain different type of data such as participants, standings, matches, results or scorers from different competitions of different countries. By using this API I can only access to information about last 3 years.\n",
    "\n",
    "- **Web Scrapping by reading HTML - BD Futbol**: from which I cannot obtain as much data as Football Data, but I have more access to historic data, which will allow me to get other type of data to get other analysis."
   ],
   "cell_type": "markdown",
   "metadata": {}
  },
  {
   "cell_type": "code",
   "execution_count": 1,
   "metadata": {},
   "outputs": [],
   "source": [
    "# Import the main libraries I will be using in both methods.\n",
    "\n",
    "import pandas as pd\n",
    "import os\n",
    "import requests\n",
    "import datetime as dt\n",
    "from datetime import datetime\n",
    "import math\n",
    "from bs4 import BeautifulSoup\n",
    "import lxml.html\n"
   ]
  },
  {
   "source": [
    "## API_Football-Data.org"
   ],
   "cell_type": "markdown",
   "metadata": {}
  },
  {
   "cell_type": "code",
   "execution_count": 2,
   "metadata": {},
   "outputs": [],
   "source": [
    "# Capsule the url from the API landing page\n",
    "\n",
    "url = 'https://api.football-data.org/'"
   ]
  },
  {
   "cell_type": "code",
   "execution_count": 3,
   "metadata": {},
   "outputs": [],
   "source": [
    "# Capsule the token as a dictionary to be used in requests\n",
    "\n",
    "headers = { 'X-Auth-Token':  'ce63b7efde334f51be087b7fb4f5ccaa'}"
   ]
  },
  {
   "cell_type": "code",
   "execution_count": 4,
   "metadata": {},
   "outputs": [],
   "source": [
    "# requests.get from the url with headers + capsule\n",
    "\n",
    "resp = requests.get(url, headers=headers)"
   ]
  },
  {
   "cell_type": "code",
   "execution_count": 5,
   "metadata": {},
   "outputs": [
    {
     "output_type": "execute_result",
     "data": {
      "text/plain": [
       "200"
      ]
     },
     "metadata": {},
     "execution_count": 5
    }
   ],
   "source": [
    "# Check the status of the requests\n",
    "\n",
    "resp.status_code"
   ]
  },
  {
   "cell_type": "code",
   "execution_count": 6,
   "metadata": {},
   "outputs": [
    {
     "output_type": "execute_result",
     "data": {
      "text/plain": [
       "'https://www.football-data.org/'"
      ]
     },
     "metadata": {},
     "execution_count": 6
    }
   ],
   "source": [
    "# Check the url\n",
    "\n",
    "resp.url"
   ]
  },
  {
   "source": [
    "### Query competitions - La Liga"
   ],
   "cell_type": "markdown",
   "metadata": {}
  },
  {
   "cell_type": "code",
   "execution_count": 7,
   "metadata": {},
   "outputs": [],
   "source": [
    "# Create a class with functions related to COMPETITIONS\n",
    "\n",
    "class FootballDataCompetition:\n",
    "\n",
    "    # define the standard url and headers\n",
    "    def __init__(self, url = 'https://api.football-data.org/v2/', headers = { 'X-Auth-Token':  'ce63b7efde334f51be087b7fb4f5ccaa'}):\n",
    "        self.url = url\n",
    "        self.headers = headers\n",
    "\n",
    "    # get the id of the country of the competition I am interested in, by introducing the country name\n",
    "    def areas (self, country = None):\n",
    "        endpoint = '/areas'\n",
    "        area1 = f'{self.url}{endpoint}'\n",
    "        area2 = requests.get(area1, headers = headers).json()\n",
    "        area3 = [(i['name'], i['id']) for i in area2['areas'] if i['name'] == country]\n",
    "        return area3\n",
    "    \n",
    "    # get the id of the existing competitions in the desired country, by introducing the id of the country\n",
    "    def areas2 (self, country = None):\n",
    "        endpoint = '/competitions'\n",
    "        area4 = f'{self.url}{endpoint}'\n",
    "        params = {'areas': country}\n",
    "        area5 = requests.get(area4, params, headers = headers).json()\n",
    "        area6 = [(i['name'], i['id']) for i in area5['competitions']]\n",
    "        return area6\n",
    "              \n",
    "    # get the teams that participate in a competition, by introducing the id of the competition. Can also introduce the season as a parameter season (standard season is current the one)\n",
    "    def competition_teams (self, id_comp=None, season=None):\n",
    "        endpoint = '/competitions/'\n",
    "        endpoint1 = str(id_comp)\n",
    "        endpoint2 = '/teams'\n",
    "        url1 = f'{self.url}{endpoint}{endpoint1}{endpoint2}'\n",
    "        params = {'season' : season}\n",
    "        comp1 = requests.get(url1, params = params, headers = headers).json()\n",
    "        teams_actual = [i['name'] for i in comp1['teams']]\n",
    "        teams_table = pd.DataFrame(teams_actual)\n",
    "        return teams_table \n",
    "    \n",
    "    # get the standings of a competition, by introducing the id of the competition. Can also introduce the season as a parameter season (standard season is current the one)\n",
    "    def competition_standings (self, id_comp=None, season=None):\n",
    "        endpoint = '/competitions/'\n",
    "        endpoint1 = str(id_comp)\n",
    "        endpoint2 = '/standings'\n",
    "        url2 = f'{self.url}{endpoint}{endpoint1}{endpoint2}'\n",
    "        params = {'season' : season}\n",
    "        comp2 = requests.get(url2, params = params, headers = headers).json()\n",
    "        standings_table = pd.DataFrame(comp2['standings'][0]['table'])\n",
    "        standings_table.set_index('position', inplace=True)\n",
    "        standings_table['team'] = standings_table['team'].apply(lambda x: x['name'])\n",
    "        return standings_table\n",
    "        \n",
    "    # get the top10 scorers of a competition, by introducing the id of the competition. Can also introduce the season as a parameter season (standard season is current the one)\n",
    "    def competition_scorers (self, id_comp=None, season=None):\n",
    "        endpoint = '/competitions/'\n",
    "        endpoint1 = str(id_comp)\n",
    "        endpoint2 = '/scorers'\n",
    "        url3 = f'{self.url}{endpoint}{endpoint1}{endpoint2}'\n",
    "        params = {'season' : season}\n",
    "        comp3 = requests.get(url3, params = params, headers = headers).json()\n",
    "        scorers_table = pd.DataFrame(comp3['scorers'])\n",
    "        scorers_table['team'] =scorers_table['team'].apply(lambda x: x['name'])\n",
    "        scorers_table['player'] = scorers_table['player'].apply(lambda x: x['name'])\n",
    "        return scorers_table\n",
    "    \n",
    "    # get the next scheduled matchday of a competition, by introducing the id of the competition\n",
    "    def competition_nextmatch (self, id_comp=None):\n",
    "        endpoint = '/competitions/'\n",
    "        endpoint1 = str(id_comp)\n",
    "        endpoint2 = '/matches'\n",
    "        url4 = f'{self.url}{endpoint}{endpoint1}{endpoint2}'\n",
    "        comp4 = requests.get(url4, headers = headers).json()\n",
    "        matches_sort = sorted([i['matchday'] for i in comp4['matches'] if i['status'] == 'SCHEDULED'])\n",
    "        next_match = matches_sort[0]\n",
    "        nxt = []\n",
    "        for i in comp4['matches']:\n",
    "            if i['matchday'] == next_match:\n",
    "                nxt.extend([[i['homeTeam']['name'] + ' vs ' + i['awayTeam']['name'],\n",
    "                i['utcDate'].split('T')[0],\n",
    "                i['utcDate'].split('T')[1].replace('Z', '')]])\n",
    "        next_match_table = pd.DataFrame(nxt, columns = ['match', 'date', 'time'])\n",
    "        return next_match_table"
   ]
  },
  {
   "cell_type": "code",
   "execution_count": 8,
   "metadata": {},
   "outputs": [],
   "source": [
    "# Create element la_liga\n",
    "\n",
    "la_liga = FootballDataCompetition()"
   ]
  },
  {
   "cell_type": "code",
   "execution_count": 9,
   "metadata": {},
   "outputs": [
    {
     "output_type": "execute_result",
     "data": {
      "text/plain": [
       "[('Spain', 2224)]"
      ]
     },
     "metadata": {},
     "execution_count": 9
    }
   ],
   "source": [
    "# Check id from Spain\n",
    "\n",
    "la_liga.areas(country = 'Spain')"
   ]
  },
  {
   "cell_type": "code",
   "execution_count": 10,
   "metadata": {},
   "outputs": [
    {
     "output_type": "execute_result",
     "data": {
      "text/plain": [
       "[('Copa del Rey', 2079),\n",
       " ('Segunda División', 2077),\n",
       " ('Primera Division', 2014),\n",
       " ('Supercopa de España', 2078)]"
      ]
     },
     "metadata": {},
     "execution_count": 10
    }
   ],
   "source": [
    "# Check competitions and its id in Spain\n",
    "\n",
    "la_liga.areas2 (country = 2224)"
   ]
  },
  {
   "cell_type": "code",
   "execution_count": 11,
   "metadata": {},
   "outputs": [],
   "source": [
    "# Call function competition_teams and export the returned DataFrame to csv\n",
    "# Participant Teams in current season (2020)\n",
    "\n",
    "la_liga.competition_teams(id_comp=2014).to_csv('API_output/1.laliga2020_teams.csv')"
   ]
  },
  {
   "cell_type": "code",
   "execution_count": 12,
   "metadata": {},
   "outputs": [],
   "source": [
    "# Call function competition_nextmatch and export the returned DataFrame to csv\n",
    "# Next matchday and its schedules in current season (2020)\n",
    "\n",
    "la_liga.competition_nextmatch(id_comp=2014).to_csv('API_output/2.laliga2020_nextmatchday.csv')"
   ]
  },
  {
   "cell_type": "code",
   "execution_count": 13,
   "metadata": {},
   "outputs": [],
   "source": [
    "# Call function competition_standings and export the returned DataFrame to csv\n",
    "# Standings from last season (2019)\n",
    "\n",
    "la_liga.competition_standings(id_comp=2014, season=2019).to_csv('API_output/3.laliga2019_standings.csv')"
   ]
  },
  {
   "cell_type": "code",
   "execution_count": 14,
   "metadata": {},
   "outputs": [],
   "source": [
    "# Call function competition_scorers and export the returned DataFrame to csv\n",
    "# Top10 scorers from two seasons ago (2018)\n",
    "\n",
    "la_liga.competition_scorers(id_comp=2014, season=2018).to_csv('API_output/4.laliga2018_scorers.csv')"
   ]
  },
  {
   "source": [
    "### Query teams - FC Barcelona"
   ],
   "cell_type": "markdown",
   "metadata": {}
  },
  {
   "cell_type": "code",
   "execution_count": 15,
   "metadata": {},
   "outputs": [],
   "source": [
    "# Create a class with functions related to TEAMS\n",
    "\n",
    "class FootballDataTeams():\n",
    "\n",
    "    # define the standard url and headers\n",
    "    def __init__(self, url = 'https://api.football-data.org/v2/', headers = { 'X-Auth-Token':  'ce63b7efde334f51be087b7fb4f5ccaa'}):\n",
    "        self.url = url\n",
    "        self.headers = headers\n",
    "\n",
    "    # get the id of the country of the competition I am interested in, by introducing the country name\n",
    "    def areas (self, country = None):\n",
    "        endpoint = '/areas'\n",
    "        area1 = f'{self.url}{endpoint}'\n",
    "        area2 = requests.get(area1, headers = headers).json()\n",
    "        area3 = [(i['name'], i['id']) for i in area2['areas'] if i['name'] == country]\n",
    "        return area3\n",
    "    \n",
    "    # get the id of the existing competitions in the desired country, by introducing the id of the country\n",
    "    def areas2 (self, country = None):\n",
    "        endpoint = '/competitions'\n",
    "        area4 = f'{self.url}{endpoint}'\n",
    "        params = {'areas': country}\n",
    "        area5 = requests.get(area4, params, headers = headers).json()\n",
    "        area6 = [(i['name'], i['id']) for i in area5['competitions']]\n",
    "        return area6\n",
    "              \n",
    "    # get the id and teams that participate in a competition, by introducing the id of the competition. Can also introduce the season as a parameter season (standard season is current the one)\n",
    "    def competition_teams (self, id_comp=None, season=None):\n",
    "        endpoint = '/competitions/'\n",
    "        endpoint1 = str(id_comp)\n",
    "        endpoint2 = '/teams'\n",
    "        url1 = f'{self.url}{endpoint}{endpoint1}{endpoint2}'\n",
    "        params = {'season' : season}\n",
    "        team1 = requests.get(url1, params = params, headers = headers).json()\n",
    "        teams_actual = [(i['id'], i['name']) for i in team1['teams']]\n",
    "        return teams_actual \n",
    "    \n",
    "    # get the info of the team I am interested, by introducing the id of the competition\n",
    "    def teams_info (self, id_team=None, season=None):\n",
    "        endpoint = '/teams/'\n",
    "        endpoint1 = str(id_team)\n",
    "        url2 = f'{self.url}{endpoint}{endpoint1}'\n",
    "        params = {'season' : season}\n",
    "        team2 = requests.get(url2, params = params, headers = headers).json()\n",
    "        teaminfo_table = pd.DataFrame({'name':team2['name'],'address':team2['address'],'venue': team2['venue']},index=[1])\n",
    "        return teaminfo_table\n",
    "        \n",
    "    # get the competitions in which the team participates, by introducing the id of the competition. Can also introduce the season as a parameter season (standard season is current the one)\n",
    "    def teams_competitions (self, id_team=None, season=None):\n",
    "        endpoint = '/teams/'\n",
    "        endpoint1 = str(id_team)\n",
    "        url3 = f'{self.url}{endpoint}{endpoint1}'\n",
    "        params = {'season' : season}\n",
    "        team3 = requests.get(url3, params = params, headers = headers).json()\n",
    "        compinfo = [(i['name']) for i in team3['activeCompetitions']]\n",
    "        compinfo_table = pd.DataFrame(compinfo, columns=['competition'])\n",
    "        return compinfo_table\n",
    "    \n",
    "    # get the squad of the team, by introducing the id of the competition. Can also introduce the season as a parameter season (standard season is current the one)\n",
    "    def teams_squad (self, id_team=None, season=None):\n",
    "        endpoint = '/teams/'\n",
    "        endpoint1 = str(id_team)\n",
    "        url4 = f'{self.url}{endpoint}{endpoint1}'\n",
    "        params = {'season' : season}\n",
    "        team4 = requests.get(url4, params = params, headers = headers).json()\n",
    "        squadinfo = [{'name':i['name'],'position':i['position'],'nationality':i['nationality'],'age':i['dateOfBirth']} for i in team4['squad'] if i['role']=='PLAYER']\n",
    "        squadinfo_table = pd.DataFrame(squadinfo)\n",
    "        squadinfo_table['age'] = squadinfo_table['age'].apply(lambda x: math.floor((dt.datetime.now() - dt.datetime.strptime(x, \"%Y-%m-%dT%H:%M:%SZ\")).days/365))\n",
    "        return squadinfo_table.sort_values(['position', 'name']).set_index('name').reset_index()\n",
    "        "
   ]
  },
  {
   "cell_type": "code",
   "execution_count": 16,
   "metadata": {},
   "outputs": [],
   "source": [
    "# Create element fcb\n",
    "\n",
    "fcb = FootballDataTeams()"
   ]
  },
  {
   "cell_type": "code",
   "execution_count": 17,
   "metadata": {},
   "outputs": [
    {
     "output_type": "execute_result",
     "data": {
      "text/plain": [
       "[('Spain', 2224)]"
      ]
     },
     "metadata": {},
     "execution_count": 17
    }
   ],
   "source": [
    "# Check id from Spain\n",
    "\n",
    "fcb.areas(country = 'Spain')"
   ]
  },
  {
   "cell_type": "code",
   "execution_count": 18,
   "metadata": {},
   "outputs": [
    {
     "output_type": "execute_result",
     "data": {
      "text/plain": [
       "[('Copa del Rey', 2079),\n",
       " ('Segunda División', 2077),\n",
       " ('Primera Division', 2014),\n",
       " ('Supercopa de España', 2078)]"
      ]
     },
     "metadata": {},
     "execution_count": 18
    }
   ],
   "source": [
    "# Check competitions and its id in Spain\n",
    "\n",
    "la_liga.areas2 (country = 2224)"
   ]
  },
  {
   "cell_type": "code",
   "execution_count": 19,
   "metadata": {},
   "outputs": [
    {
     "output_type": "display_data",
     "data": {
      "text/plain": "(81, 'FC Barcelona')"
     },
     "metadata": {}
    }
   ],
   "source": [
    "# Check teams and its id from Primera Division and return just tge FC Barcelona\n",
    "\n",
    "for i in fcb.competition_teams(id_comp=2014):\n",
    "    if 'FC Barcelona' in i:\n",
    "        display(i)"
   ]
  },
  {
   "cell_type": "code",
   "execution_count": 20,
   "metadata": {},
   "outputs": [],
   "source": [
    "# Call function teams_info and export the returned DataFrame to csv\n",
    "# Basic club information\n",
    "\n",
    "fcb.teams_info(id_team=81).to_csv('API_output/5.fcb_basicinfo.csv')"
   ]
  },
  {
   "cell_type": "code",
   "execution_count": 21,
   "metadata": {},
   "outputs": [],
   "source": [
    "# Call function teams_competitions and export the returned DataFrame to csv\n",
    "# Competitions in which the team competes this season \n",
    "\n",
    "fcb.teams_competitions(id_team=81).to_csv('API_output/6.fcb_competitions.csv')"
   ]
  },
  {
   "cell_type": "code",
   "execution_count": 24,
   "metadata": {},
   "outputs": [],
   "source": [
    "# Call function teams_squad and export the returned DataFrame to csv\n",
    "# Players from the squad\n",
    "\n",
    "fcb.teams_squad(id_team=81).to_csv('API_output/7.fcb_squad.csv')"
   ]
  },
  {
   "source": [
    "## Web Scrapping_Bdfutbol.com"
   ],
   "cell_type": "markdown",
   "metadata": {}
  },
  {
   "cell_type": "code",
   "execution_count": 25,
   "metadata": {},
   "outputs": [],
   "source": [
    "# Capsule the url\n",
    "\n",
    "url = 'https://www.bdfutbol.com/es/'"
   ]
  },
  {
   "cell_type": "code",
   "execution_count": 26,
   "metadata": {},
   "outputs": [],
   "source": [
    "# requests.get from the url with headers + capsule\n",
    "\n",
    "resp = requests.get(url)"
   ]
  },
  {
   "cell_type": "code",
   "execution_count": 27,
   "metadata": {},
   "outputs": [
    {
     "output_type": "execute_result",
     "data": {
      "text/plain": [
       "200"
      ]
     },
     "metadata": {},
     "execution_count": 27
    }
   ],
   "source": [
    "# Check the status of the request\n",
    "\n",
    "resp.status_code"
   ]
  },
  {
   "cell_type": "code",
   "execution_count": 28,
   "metadata": {},
   "outputs": [],
   "source": [
    "# Obtain the HTML text\n",
    "\n",
    "html = resp.text"
   ]
  },
  {
   "cell_type": "code",
   "execution_count": 29,
   "metadata": {},
   "outputs": [],
   "source": [
    "# Read the HTML text by using lxml\n",
    "\n",
    "root = lxml.html.fromstring(html)"
   ]
  },
  {
   "cell_type": "code",
   "execution_count": 30,
   "metadata": {},
   "outputs": [
    {
     "output_type": "execute_result",
     "data": {
      "text/plain": [
       "lxml.html.HtmlElement"
      ]
     },
     "metadata": {},
     "execution_count": 30
    }
   ],
   "source": [
    "# Create an lxml.html.HtmlElement element of Bdfutbol page\n",
    "# Check the type of element created\n",
    "\n",
    "type(root)"
   ]
  },
  {
   "cell_type": "code",
   "execution_count": 31,
   "metadata": {},
   "outputs": [],
   "source": [
    "# In the main page there are many competitions, so we need to look for the endpoint of laliga\n",
    "\n",
    "laliga = root.xpath('/html/body/div[1]/div/div[9]/div[1]/div/div/div[2]/div[2]/span[2]/a/@href')"
   ]
  },
  {
   "cell_type": "code",
   "execution_count": 32,
   "metadata": {},
   "outputs": [],
   "source": [
    "# Obtain HTML code from laliga\n",
    "\n",
    "html2 = requests.get(url + ''.join(laliga)).text"
   ]
  },
  {
   "cell_type": "code",
   "execution_count": 33,
   "metadata": {},
   "outputs": [],
   "source": [
    "# Create an lxml.html.HtmlElement element of Bdfutbol laliga page\n",
    "\n",
    "root2 = lxml.html.fromstring(html2)"
   ]
  },
  {
   "cell_type": "code",
   "execution_count": 34,
   "metadata": {},
   "outputs": [],
   "source": [
    "# In laliga page, we can find links to go to all history seasons\n",
    "# Obtain the list of de historic of all the seasons in laliga. I will use them as endpoints\n",
    "\n",
    "historico = root2.xpath('/html/body/div[1]/div/div[8]/div[2]/div[2]/div/div[@class=\"item_temporada\"]/a/@href')"
   ]
  },
  {
   "cell_type": "code",
   "execution_count": 35,
   "metadata": {},
   "outputs": [],
   "source": [
    "# Current season is not over - I do not consider it (exclude first element of the list)\n",
    "# Obtain the list of de last 15 seasons when Messi was a player of FC Barcelona\n",
    "\n",
    "seasons_w_messi = historico[1:16]"
   ]
  },
  {
   "cell_type": "code",
   "execution_count": 36,
   "metadata": {},
   "outputs": [],
   "source": [
    "# Obtain the list of de previous 15 seasons when Messi was not a player of FC Barcelona\n",
    "\n",
    "seasons_wo_messi = historico[16:31]"
   ]
  },
  {
   "cell_type": "code",
   "execution_count": 37,
   "metadata": {},
   "outputs": [],
   "source": [
    "# Create empty lists to append each element per season with Messi: season year, played games, won games, draw games, lost games, scored goals and received goals\n",
    "\n",
    "season = []\n",
    "played_games = []\n",
    "won_games = []\n",
    "draw_games = []\n",
    "lost_games = []\n",
    "scored_goals = []\n",
    "received_goals = []\n",
    "\n",
    "# By using a for loop, I get all the different links from which I will obtain the standings and all the info needed:\n",
    "\n",
    "for i in seasons_w_messi:\n",
    "    html3 = requests.get(url + '/t/' + i).text\n",
    "    root3 = lxml.html.fromstring(html3)\n",
    "    season.append(''.join(root3.xpath('//body/div[1]/div/div[11]/h1/span[3]/text()')))\n",
    "    played_games.append(''.join(root3.xpath('//tr[@ideq=\"1\"]/td[6]/text()')))\n",
    "    won_games.append(''.join(root3.xpath('//tr[@ideq=\"1\"]/td[7][@class=\"resp_off\"]/text()')))\n",
    "    draw_games.append(''.join(root3.xpath('//tr[@ideq=\"1\"]/td[8][@class=\"resp_off\"]/text()')))\n",
    "    lost_games.append(''.join(root3.xpath('//tr[@ideq=\"1\"]/td[9][@class=\"resp_off\"]/text()')))\n",
    "    scored_goals.append(''.join(root3.xpath('//tr[@ideq=\"1\"]/td[10][@class=\"resp_off\"]/text()')))\n",
    "    received_goals.append(''.join(root3.xpath('//tr[@ideq=\"1\"]/td[11][@class=\"resp_off\"]/text()')))"
   ]
  },
  {
   "cell_type": "code",
   "execution_count": 39,
   "metadata": {},
   "outputs": [],
   "source": [
    "# Define a dictionary that will be used to creat a DataFrame with all the stats per season\n",
    "\n",
    "games = { 'played_games':played_games, 'won_games':won_games, 'draw_games':draw_games, 'lost_games':lost_games, 'scored_goals':scored_goals, 'received_goals':received_goals}\n",
    "\n",
    "# Creation of the DataFrame\n",
    "\n",
    "df_w_messi = pd.DataFrame(games, columns=['played_games','won_games', 'draw_games', 'lost_games', 'scored_goals', 'received_goals'], index=season)\n",
    "\n",
    "# Casting from str to int\n",
    "\n",
    "df_w_messi = df_w_messi.applymap(lambda x: int(x))\n",
    "\n",
    "# Creation of a csv file with the DataFrame\n",
    "\n",
    "df_w_messi.to_csv('WS_output/1.standings_with_messi.csv')"
   ]
  },
  {
   "cell_type": "code",
   "execution_count": 40,
   "metadata": {},
   "outputs": [],
   "source": [
    "# Define a dictionary that will be used to creat a DataFrame with all the stats of all seasons together\n",
    "\n",
    "total_games = { 'total_played_games':df_w_messi['played_games'].sum(), 'total_won_games':df_w_messi['won_games'].sum(), 'total_draw_games':df_w_messi['draw_games'].sum(), 'total_lost_games':df_w_messi['lost_games'].sum(), 'total_scored_goals':df_w_messi['scored_goals'].sum(), 'total_received_goals':df_w_messi['received_goals'].sum()}\n",
    "\n",
    "# Creation of the DataFrame\n",
    "\n",
    "df_w_messi2 = pd.DataFrame(total_games, columns=['total_played_games','total_won_games', 'total_draw_games', 'total_lost_games', 'total_scored_goals', 'total_received_goals'], index=['fcb_w_messi'])"
   ]
  },
  {
   "cell_type": "code",
   "execution_count": 42,
   "metadata": {},
   "outputs": [],
   "source": [
    "# Create empty lists to append each element per season without Messi: season year, played games, won games, draw games, lost games, scored goals and received goals.\n",
    "\n",
    "season1 = []\n",
    "played_games1 = []\n",
    "won_games1 = []\n",
    "draw_games1 = []\n",
    "lost_games1 = []\n",
    "scored_goals1 = []\n",
    "received_goals1 = []\n",
    "\n",
    "# By using a for loop, I get all the different links from which I will obtain the standings and all the info needed\n",
    "\n",
    "for i in seasons_wo_messi:\n",
    "    html4 = requests.get(url + '/t/' + i).text\n",
    "    root4 = lxml.html.fromstring(html4)\n",
    "    season1.append(''.join(root4.xpath('//body/div[1]/div/div[11]/h1/span[3]/text()')))\n",
    "    played_games1.append(''.join(root4.xpath('//tr[@ideq=\"1\"]/td[6]/text()')))\n",
    "    won_games1.append(''.join(root4.xpath('//tr[@ideq=\"1\"]/td[7][@class=\"resp_off\"]/text()')))\n",
    "    draw_games1.append(''.join(root4.xpath('//tr[@ideq=\"1\"]/td[8][@class=\"resp_off\"]/text()')))\n",
    "    lost_games1.append(''.join(root4.xpath('//tr[@ideq=\"1\"]/td[9][@class=\"resp_off\"]/text()')))\n",
    "    scored_goals1.append(''.join(root4.xpath('//tr[@ideq=\"1\"]/td[10][@class=\"resp_off\"]/text()')))\n",
    "    received_goals1.append(''.join(root4.xpath('//tr[@ideq=\"1\"]/td[11][@class=\"resp_off\"]/text()')))"
   ]
  },
  {
   "cell_type": "code",
   "execution_count": 43,
   "metadata": {},
   "outputs": [],
   "source": [
    "# Define a dictionary that will be used to creat a DataFrame with all the stats per season\n",
    "\n",
    "games1 = { 'played_games1':played_games1, 'won_games1':won_games1, 'draw_games1':draw_games1, 'lost_games1':lost_games1, 'scored_goals1':scored_goals1, 'received_goals1':received_goals1}\n",
    "\n",
    "# Creation of the DataFrame\n",
    "\n",
    "df_wo_messi = pd.DataFrame(games1, columns=['played_games1','won_games1', 'draw_games1', 'lost_games1', 'scored_goals1', 'received_goals1'], index=season1)\n",
    "\n",
    "# Casting from str to int\n",
    "\n",
    "df_wo_messi = df_wo_messi.applymap(lambda x: int(x))\n",
    "\n",
    "# Creation of a csv file with the DataFrame\n",
    "\n",
    "df_wo_messi.to_csv('WS_output/2.standings_without_messi.csv')"
   ]
  },
  {
   "cell_type": "code",
   "execution_count": 44,
   "metadata": {},
   "outputs": [],
   "source": [
    "# Define a dictionary that will be used to creat a DataFrame with all the stats of all seasons together\n",
    "\n",
    "total_games1 = { 'total_played_games':df_wo_messi['played_games1'].sum(), 'total_won_games':df_wo_messi['won_games1'].sum(), 'total_draw_games':df_wo_messi['draw_games1'].sum(), 'total_lost_games':df_wo_messi['lost_games1'].sum(), 'total_scored_goals':df_wo_messi['scored_goals1'].sum(), 'total_received_goals':df_wo_messi['received_goals1'].sum()}\n",
    "\n",
    "# Creation of the DataFrame\n",
    "\n",
    "df_wo_messi2 = pd.DataFrame(total_games1, columns=['total_played_games','total_won_games', 'total_draw_games', 'total_lost_games', 'total_scored_goals', 'total_received_goals'], index=['fcb_wo_messi'])"
   ]
  },
  {
   "cell_type": "code",
   "execution_count": 45,
   "metadata": {},
   "outputs": [],
   "source": [
    "# Concatenate both DataFrames to get all figures from FC Barcelona with and without Messi\n",
    "\n",
    "comparision = pd.concat([df_w_messi2, df_wo_messi2])\n",
    "\n",
    "# Creation of a csv file with the DataFrame\n",
    "\n",
    "comparision.to_csv('WS_output/3.total_standings.csv')"
   ]
  },
  {
   "cell_type": "code",
   "execution_count": 46,
   "metadata": {},
   "outputs": [],
   "source": [
    "# Obtain the % between the figures with Messi and without Messi\n",
    "\n",
    "comparision2 = [comparision.iloc[0,:] / comparision.iloc[1,:]]"
   ]
  },
  {
   "cell_type": "code",
   "execution_count": 47,
   "metadata": {
    "tags": []
   },
   "outputs": [],
   "source": [
    "# Creation of the DataFrame\n",
    "\n",
    "comparision3 = pd.DataFrame(comparision2, columns = ['total_played_games', 'total_won_games', 'total_draw_games', 'total_lost_games', 'total_scored_goals', 'total_received_goals'], index = ['messi_vs_nomessi'])\n",
    "\n",
    "# Creation of a csv file with the DataFrame\n",
    "\n",
    "comparision3.to_csv('WS_output/4.messi_vs_no_messi.csv')"
   ]
  },
  {
   "cell_type": "code",
   "execution_count": 48,
   "metadata": {},
   "outputs": [
    {
     "output_type": "execute_result",
     "data": {
      "text/plain": [
       "                  total_played_games  total_won_games  total_draw_games  \\\n",
       "messi_vs_nomessi            0.986159         1.240854          0.776923   \n",
       "\n",
       "                  total_lost_games  total_scored_goals  total_received_goals  \n",
       "messi_vs_nomessi          0.516667            1.279514              0.764241  "
      ],
      "text/html": "<div>\n<style scoped>\n    .dataframe tbody tr th:only-of-type {\n        vertical-align: middle;\n    }\n\n    .dataframe tbody tr th {\n        vertical-align: top;\n    }\n\n    .dataframe thead th {\n        text-align: right;\n    }\n</style>\n<table border=\"1\" class=\"dataframe\">\n  <thead>\n    <tr style=\"text-align: right;\">\n      <th></th>\n      <th>total_played_games</th>\n      <th>total_won_games</th>\n      <th>total_draw_games</th>\n      <th>total_lost_games</th>\n      <th>total_scored_goals</th>\n      <th>total_received_goals</th>\n    </tr>\n  </thead>\n  <tbody>\n    <tr>\n      <th>messi_vs_nomessi</th>\n      <td>0.986159</td>\n      <td>1.240854</td>\n      <td>0.776923</td>\n      <td>0.516667</td>\n      <td>1.279514</td>\n      <td>0.764241</td>\n    </tr>\n  </tbody>\n</table>\n</div>"
     },
     "metadata": {},
     "execution_count": 48
    }
   ],
   "source": [
    "comparision3"
   ]
  },
  {
   "source": [
    "From the stats obtained, despite having played 8 matches less (-1,4%), we can see that FC Barcelona has the following figures with Messi as a player:\n",
    "\n",
    "- Total games won: 24% more with Messi\n",
    "- Total games draw: 22% less with Messi\n",
    "- Total games lost: 49% less with Messi\n",
    "- Total goals scored: 28% more with Messi\n",
    "- Total goals received: 24% less with Messi\n",
    "\n",
    "We can see that all single stats have improved with Messi in the team."
   ],
   "cell_type": "markdown",
   "metadata": {}
  }
 ]
}